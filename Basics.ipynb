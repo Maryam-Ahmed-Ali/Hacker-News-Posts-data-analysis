{
 "cells": [
  {
   "cell_type": "markdown",
   "metadata": {
    "collapsed": true
   },
   "source": [
    "**Hacker News data set analysis**  \n",
    "\n",
    "We analyze the data set of Hacker News technology site to see which topics get the most comments and at which creation date and other aspects."
   ]
  },
  {
   "cell_type": "code",
   "execution_count": 1,
   "metadata": {
    "collapsed": true
   },
   "outputs": [],
   "source": [
    "import csv as c"
   ]
  },
  {
   "cell_type": "code",
   "execution_count": 4,
   "metadata": {
    "collapsed": false
   },
   "outputs": [
    {
     "name": "stdout",
     "output_type": "stream",
     "text": [
      "[['id', 'title', 'url', 'num_points', 'num_comments', 'author', 'created_at'], ['12224879', 'Interactive Dynamic Video', 'http://www.interactivedynamicvideo.com/', '386', '52', 'ne0phyte', '8/4/2016 11:52'], ['10975351', 'How to Use Open Source and Shut the Fuck Up at the Same Time', 'http://hueniverse.com/2016/01/26/how-to-use-open-source-and-shut-the-fuck-up-at-the-same-time/', '39', '10', 'josep2', '1/26/2016 19:30'], ['11964716', \"Florida DJs May Face Felony for April Fools' Water Joke\", 'http://www.thewire.com/entertainment/2013/04/florida-djs-april-fools-water-joke/63798/', '2', '1', 'vezycash', '6/23/2016 22:20'], ['11919867', 'Technology ventures: From Idea to Enterprise', 'https://www.amazon.com/Technology-Ventures-Enterprise-Thomas-Byers/dp/0073523429', '3', '1', 'hswarna', '6/17/2016 0:01']]\n"
     ]
    }
   ],
   "source": [
    "opened_file = open('hacker_news.csv')\n",
    "read_file = c.reader(opened_file)\n",
    "hn = list(read_file)\n",
    "print(hn[:5])"
   ]
  },
  {
   "cell_type": "code",
   "execution_count": 5,
   "metadata": {
    "collapsed": false
   },
   "outputs": [
    {
     "name": "stdout",
     "output_type": "stream",
     "text": [
      "['id', 'title', 'url', 'num_points', 'num_comments', 'author', 'created_at']\n",
      "[['12224879', 'Interactive Dynamic Video', 'http://www.interactivedynamicvideo.com/', '386', '52', 'ne0phyte', '8/4/2016 11:52'], ['10975351', 'How to Use Open Source and Shut the Fuck Up at the Same Time', 'http://hueniverse.com/2016/01/26/how-to-use-open-source-and-shut-the-fuck-up-at-the-same-time/', '39', '10', 'josep2', '1/26/2016 19:30'], ['11964716', \"Florida DJs May Face Felony for April Fools' Water Joke\", 'http://www.thewire.com/entertainment/2013/04/florida-djs-april-fools-water-joke/63798/', '2', '1', 'vezycash', '6/23/2016 22:20'], ['11919867', 'Technology ventures: From Idea to Enterprise', 'https://www.amazon.com/Technology-Ventures-Enterprise-Thomas-Byers/dp/0073523429', '3', '1', 'hswarna', '6/17/2016 0:01'], ['10301696', 'Note by Note: The Making of Steinway L1037 (2007)', 'http://www.nytimes.com/2007/11/07/movies/07stein.html?_r=0', '8', '2', 'walterbell', '9/30/2015 4:12']]\n"
     ]
    }
   ],
   "source": [
    "headers = hn[0]\n",
    "hn = hn[1:]\n",
    "print(headers)\n",
    "print(hn[:5])"
   ]
  },
  {
   "cell_type": "code",
   "execution_count": 7,
   "metadata": {
    "collapsed": true
   },
   "outputs": [],
   "source": [
    "ask_posts = []\n",
    "show_posts = []\n",
    "other_posts = [] "
   ]
  },
  {
   "cell_type": "code",
   "execution_count": 8,
   "metadata": {
    "collapsed": false
   },
   "outputs": [
    {
     "name": "stdout",
     "output_type": "stream",
     "text": [
      "1744\n",
      "1162\n",
      "17194\n"
     ]
    }
   ],
   "source": [
    "for row in hn:\n",
    "    title = row[1].lower()\n",
    "    if title.startswith(\"ask hn\"):\n",
    "        ask_posts.append(row)\n",
    "    elif title.startswith(\"show hn\"):\n",
    "        show_posts.append(row)\n",
    "    else:\n",
    "        other_posts.append(row)\n",
    "print(len(ask_posts))\n",
    "print(len(show_posts))\n",
    "print(len(other_posts))\n",
    "        "
   ]
  },
  {
   "cell_type": "markdown",
   "metadata": {},
   "source": [
    "So as we want to analyze ask Hacker News and show Hacker News posts only, we separated them into two list of lists,the first category contains 1744 posts while the latter contains 1162 post."
   ]
  },
  {
   "cell_type": "code",
   "execution_count": 9,
   "metadata": {
    "collapsed": false
   },
   "outputs": [
    {
     "name": "stdout",
     "output_type": "stream",
     "text": [
      "14.038417431192661\n"
     ]
    }
   ],
   "source": [
    "total_ask_comments = 0\n",
    "for row in ask_posts:\n",
    "    num_comments = int(row[4])\n",
    "    total_ask_comments += num_comments\n",
    "avg_ask_comments = total_ask_comments/len(ask_posts)\n",
    "print(avg_ask_comments)"
   ]
  },
  {
   "cell_type": "code",
   "execution_count": 10,
   "metadata": {
    "collapsed": false
   },
   "outputs": [
    {
     "name": "stdout",
     "output_type": "stream",
     "text": [
      "10.31669535283993\n"
     ]
    }
   ],
   "source": [
    "total_show_comments = 0\n",
    "for row in show_posts:\n",
    "    num_comments = int(row[4])\n",
    "    total_show_comments += num_comments\n",
    "avg_show_comments = total_show_comments/len(show_posts)\n",
    "print(avg_show_comments)"
   ]
  },
  {
   "cell_type": "markdown",
   "metadata": {},
   "source": [
    "We find out that ask posts receive on average 14 comments for a post which is more than the show posts where a post receives only 10 comments on average."
   ]
  },
  {
   "cell_type": "markdown",
   "metadata": {},
   "source": [
    "Since the ask posts receive more comments we will analyze these posts to know which hour during the day the posts created at would receive more comments."
   ]
  },
  {
   "cell_type": "code",
   "execution_count": 11,
   "metadata": {
    "collapsed": true
   },
   "outputs": [],
   "source": [
    "import datetime as dt"
   ]
  },
  {
   "cell_type": "code",
   "execution_count": 16,
   "metadata": {
    "collapsed": false
   },
   "outputs": [
    {
     "name": "stdout",
     "output_type": "stream",
     "text": [
      "[['8/16/2016 9:55', 6], ['11/22/2015 13:43', 29], ['5/2/2016 10:14', 1], ['8/2/2016 14:20', 3], ['10/15/2015 16:38', 17]]\n"
     ]
    }
   ],
   "source": [
    "result_list = []\n",
    "for row in ask_posts:\n",
    "    date_comments=[row[6],int(row[4])]\n",
    "    result_list.append(date_comments)\n",
    "print(result_list[:5])    "
   ]
  },
  {
   "cell_type": "code",
   "execution_count": 20,
   "metadata": {
    "collapsed": false
   },
   "outputs": [],
   "source": [
    "counts_by_hour = {}\n",
    "comments_by_hour = {}\n",
    "for row in result_list:\n",
    "    created_at = dt.datetime.strptime(row[0],\"%m/%d/%Y\\n%H:%M\")\n",
    "    hour = created_at.strftime(\"%H\")\n",
    "    if hour not in counts_by_hour:\n",
    "        counts_by_hour[hour] = 1\n",
    "        comments_by_hour[hour] = row[1]\n",
    "    else:\n",
    "        counts_by_hour[hour] += 1\n",
    "        comments_by_hour[hour] += row[1]"
   ]
  },
  {
   "cell_type": "code",
   "execution_count": 22,
   "metadata": {
    "collapsed": false
   },
   "outputs": [
    {
     "name": "stdout",
     "output_type": "stream",
     "text": [
      "{'14': 107, '07': 34, '08': 48, '04': 47, '13': 85, '05': 46, '18': 109, '19': 110, '03': 54, '23': 68, '16': 108, '22': 71, '10': 59, '00': 55, '02': 58, '15': 116, '20': 80, '01': 60, '09': 45, '17': 100, '11': 58, '12': 73, '21': 109, '06': 44}\n",
      "{'14': 1416, '07': 267, '08': 492, '04': 337, '13': 1253, '05': 464, '18': 1439, '19': 1188, '03': 421, '23': 543, '16': 1814, '22': 479, '10': 793, '00': 447, '02': 1381, '15': 4477, '20': 1722, '01': 683, '09': 251, '17': 1146, '11': 641, '12': 687, '21': 1745, '06': 397}\n"
     ]
    }
   ],
   "source": [
    "print(counts_by_hour)\n",
    "print(comments_by_hour)"
   ]
  },
  {
   "cell_type": "code",
   "execution_count": 33,
   "metadata": {
    "collapsed": false
   },
   "outputs": [
    {
     "name": "stdout",
     "output_type": "stream",
     "text": [
      "[['14', 13.233644859813085], ['07', 7.852941176470588], ['08', 10.25], ['04', 7.170212765957447], ['13', 14.741176470588234], ['05', 10.08695652173913], ['18', 13.20183486238532], ['19', 10.8], ['03', 7.796296296296297], ['23', 7.985294117647059], ['16', 16.796296296296298], ['22', 6.746478873239437], ['10', 13.440677966101696], ['00', 8.127272727272727], ['02', 23.810344827586206], ['15', 38.5948275862069], ['20', 21.525], ['01', 11.383333333333333], ['09', 5.5777777777777775], ['17', 11.46], ['11', 11.051724137931034], ['12', 9.41095890410959], ['21', 16.009174311926607], ['06', 9.022727272727273]]\n"
     ]
    }
   ],
   "source": [
    "avg_by_hour = []\n",
    "for i in comments_by_hour:\n",
    "    hour_average = [i,(comments_by_hour[i]/counts_by_hour[i])]\n",
    "    avg_by_hour.append(hour_average)\n",
    "print(avg_by_hour)    \n",
    "    "
   ]
  },
  {
   "cell_type": "code",
   "execution_count": 34,
   "metadata": {
    "collapsed": false
   },
   "outputs": [
    {
     "name": "stdout",
     "output_type": "stream",
     "text": [
      "[[13.233644859813085, '14'], [7.852941176470588, '07'], [10.25, '08'], [7.170212765957447, '04'], [14.741176470588234, '13'], [10.08695652173913, '05'], [13.20183486238532, '18'], [10.8, '19'], [7.796296296296297, '03'], [7.985294117647059, '23'], [16.796296296296298, '16'], [6.746478873239437, '22'], [13.440677966101696, '10'], [8.127272727272727, '00'], [23.810344827586206, '02'], [38.5948275862069, '15'], [21.525, '20'], [11.383333333333333, '01'], [5.5777777777777775, '09'], [11.46, '17'], [11.051724137931034, '11'], [9.41095890410959, '12'], [16.009174311926607, '21'], [9.022727272727273, '06']]\n"
     ]
    }
   ],
   "source": [
    "swap_avg_by_hour = []\n",
    "for i in avg_by_hour:\n",
    "    swap = [i[1],i[0]]\n",
    "    swap_avg_by_hour.append(swap)\n",
    "print(swap_avg_by_hour)    "
   ]
  },
  {
   "cell_type": "code",
   "execution_count": 35,
   "metadata": {
    "collapsed": true
   },
   "outputs": [],
   "source": [
    "sorted_swap = sorted(swap_avg_by_hour,reverse=True)"
   ]
  },
  {
   "cell_type": "code",
   "execution_count": 37,
   "metadata": {
    "collapsed": false
   },
   "outputs": [
    {
     "name": "stdout",
     "output_type": "stream",
     "text": [
      "Top 5 Hours for Ask Posts Comments:\n",
      "15:00:38.59 average comments per post.\n",
      "02:00:23.81 average comments per post.\n",
      "20:00:21.52 average comments per post.\n",
      "16:00:16.80 average comments per post.\n",
      "21:00:16.01 average comments per post.\n"
     ]
    }
   ],
   "source": [
    "Top5 = \"Top 5 Hours for Ask Posts Comments:\"\n",
    "print(Top5)\n",
    "for i,j in sorted_swap[:5]:\n",
    "    hour = dt.datetime.strptime(j,\"%H\")\n",
    "    hour = hour.strftime(\"%H:%M\")\n",
    "    string = \"{}:{:.2f} average comments per post.\".format(hour,i)\n",
    "    print(string)\n",
    "    "
   ]
  },
  {
   "cell_type": "markdown",
   "metadata": {},
   "source": [
    "We found the count of ask posts and the number of comments for those posts that are created at each hour during the day. Then we could find the average comments for posts created at each hour, and after sorting the results we were able to find the top five hours during the day that receive most comments based on Hacker News site ask posts data."
   ]
  }
 ],
 "metadata": {
  "kernelspec": {
   "display_name": "Python 3",
   "language": "python",
   "name": "python3"
  },
  "language_info": {
   "codemirror_mode": {
    "name": "ipython",
    "version": 3
   },
   "file_extension": ".py",
   "mimetype": "text/x-python",
   "name": "python",
   "nbconvert_exporter": "python",
   "pygments_lexer": "ipython3",
   "version": "3.4.3"
  }
 },
 "nbformat": 4,
 "nbformat_minor": 2
}
